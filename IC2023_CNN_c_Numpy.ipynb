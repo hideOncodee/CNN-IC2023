{
  "nbformat": 4,
  "nbformat_minor": 0,
  "metadata": {
    "colab": {
      "provenance": [],
      "gpuType": "T4",
      "collapsed_sections": [
        "ffUrL_E7EBqC",
        "lAfZxIWGOpd8",
        "wTHZair7C1Ty",
        "0Bs1CFcWD3mv",
        "pT2Ukyd-Efn3",
        "Uz4V3nH2Gbi2",
        "G_W9E-zpGjdL",
        "QpOPPTQyGqTc",
        "0QXapyeOAbqB",
        "08xOvSBKHuHR",
        "ufJnD6fsH5Iz"
      ],
      "include_colab_link": true
    },
    "kernelspec": {
      "name": "python3",
      "display_name": "Python 3"
    },
    "language_info": {
      "name": "python"
    },
    "accelerator": "GPU"
  },
  "cells": [
    {
      "cell_type": "markdown",
      "metadata": {
        "id": "view-in-github",
        "colab_type": "text"
      },
      "source": [
        "<a href=\"https://colab.research.google.com/github/hideOncodee/CNN-IC2023/blob/main/IC2023_CNN_c_Numpy.ipynb\" target=\"_parent\"><img src=\"https://colab.research.google.com/assets/colab-badge.svg\" alt=\"Open In Colab\"/></a>"
      ]
    },
    {
      "cell_type": "markdown",
      "source": [
        "## Importação das bibliotecas"
      ],
      "metadata": {
        "id": "ffUrL_E7EBqC"
      }
    },
    {
      "cell_type": "code",
      "execution_count": null,
      "metadata": {
        "id": "fMF-aDEQf1LL"
      },
      "outputs": [],
      "source": [
        "import os                                   # Permite utilizar recursos so sistema operacional\n",
        "import shutil                               # Manipulação de arquivos em grande escala\n",
        "import zipfile                              # Manipulação de arquivos compactados\n",
        "import tensorflow as tf                     # Biblioteca dedicada a aprendizado de máquina, do desenvolvimento aos testes etc.\n",
        "import numpy as np                          # Manipulação facilitada de tensores (matrizes 2D E 3D neste caso)\n",
        "import matplotlib.pyplot as plt             # Recursos para exibição gráfica\n",
        "import cv2                                  # OpenCV - Manipulação de arquivos de imagem\n",
        "import seaborn as sns                       # Recursos para exibição gráfica de dados, baseada na matplotlib\n",
        "from sklearn.model_selection import KFold   # Função da biblioteca Scikit Learn para validação cruzada\n",
        "from google.colab.patches import cv2_imshow # Função da biblioteca OpenCV para exibição de um arquivo de imagem"
      ]
    },
    {
      "cell_type": "markdown",
      "source": [
        "Importa e monta o acesso ao Google Drive"
      ],
      "metadata": {
        "id": "ClPBEtnPEifA"
      }
    },
    {
      "cell_type": "code",
      "source": [
        "from google.colab import drive\n",
        "drive.mount('/content/drive')"
      ],
      "metadata": {
        "id": "701Z2c4S98ig"
      },
      "execution_count": null,
      "outputs": []
    },
    {
      "cell_type": "markdown",
      "source": [
        "# Organização da base de dados"
      ],
      "metadata": {
        "id": "-tJIQPhMHGiQ"
      }
    },
    {
      "cell_type": "code",
      "source": [
        "path = '/content/drive/MyDrive/Original.zip'            # Atribui o caminho da base de dados (compactada) à variável \"path\"\n",
        "zip_object = zipfile.ZipFile(file = path, mode = 'r')   # Cria objeto \"zip_object\" contendo a base de dados (compactada)\n",
        "zip_object.extractall('./')                             # Extrai (descompacta) a base da dados\n",
        "zip_object.close()                                      # Fecha o objeto \"zip_object\", conforme sugere a documentação da bib. zipfile"
      ],
      "metadata": {
        "id": "tp7fiF_U_EEm"
      },
      "execution_count": null,
      "outputs": []
    },
    {
      "cell_type": "markdown",
      "source": [
        "**Nota**\n",
        "> Carrega-se uma segunda base de dados (pacote de teste) com um padrão de captura de amostras diferente do utilizado na captura das imagens da base de dados original. Essa segunda base de dados é muito menor, e é incorporada a base original e utilizada para treinamento/validação. No entanto para *teste* é utilizada somente o **pacote de teste**, visando estudar a capacidade de generalização do modelo, conforme será abordado mais adiante no programa.\n",
        "\n",
        "\n",
        "\n",
        "\n"
      ],
      "metadata": {
        "id": "81eihfbaIxJP"
      }
    },
    {
      "cell_type": "code",
      "source": [
        "path = '/content/drive/MyDrive/test_batch.zip'          # Atribui o caminho do pacote de teste (compactada) à variável \"path\"\n",
        "zip_object = zipfile.ZipFile(file = path, mode = 'r')   # Cria objeto \"zip_object\" contendo a base de dados (compactada)\n",
        "zip_object.extractall('./')                             # Extrai (descompacta) a base da dados\n",
        "zip_object.close()                                      # Fecha o objeto \"zip_object\", conforme sugere a documentação da bib. zipfile"
      ],
      "metadata": {
        "id": "eVilM7zVxgoG"
      },
      "execution_count": null,
      "outputs": []
    },
    {
      "cell_type": "code",
      "source": [
        "os.makedirs('/content/Original_full')                   # Cria diretório \"Original_full\""
      ],
      "metadata": {
        "id": "I4_YJMa-yRop"
      },
      "execution_count": null,
      "outputs": []
    },
    {
      "cell_type": "code",
      "source": [
        "splited_dirs = ['/content/Original/P13NOK', '/content/Original/P13OK', '/content/ test_batch']  # Caminhos dos diretórios que compõem a base de dados\n",
        "complete_dir = '/content/Original_full'                                                         # Caminho do diretorio unificado\n",
        "\n",
        "for dir in splited_dirs:                                                                        # Itera sob os diretorios separados\n",
        "  for files in os.listdir(dir):                                                                 # Itera sob os arquivos de cada diretorio\n",
        "    splited_dir_path = os.path.join(dir, files)                                                 # Atribui o caminho do arquivo do diretorio separado da iteração em questão a \"splited_dir_path\"\n",
        "    complete_dir_path = os.path.join(complete_dir, files)                                       # Atribui o caminho do arquivo do diretorio completo da iteração em questão a \"complete_dir_path\n",
        "\n",
        "    shutil.copy(splited_dir_path, complete_dir_path)                                            # Copia o arquivo do diretorio separado para o diretorio completo, através de seus respect. caminhos"
      ],
      "metadata": {
        "id": "DSWRKxvnmmR3"
      },
      "execution_count": null,
      "outputs": []
    },
    {
      "cell_type": "markdown",
      "source": [
        "# Criar a partir da base de dados tensores de imagens e de seus respectivos rótulos"
      ],
      "metadata": {
        "id": "lAfZxIWGOpd8"
      }
    },
    {
      "cell_type": "code",
      "source": [
        "files = [os.path.join(complete_dir, f) for f in sorted(os.listdir(complete_dir))]   # Cria um vetor \"files\" contendo todos os arquivos (caminhos) da base de dados\n",
        "images = []                                                                         # Cria um vetor \"images\" que receberá os arquivos (caminhos) de imagem\n",
        "labels = []                                                                         # Cria um vetor \"labels\" que receberá os rótulos (classes) de cada imagem"
      ],
      "metadata": {
        "id": "8rl0haOzgqt0"
      },
      "execution_count": null,
      "outputs": []
    },
    {
      "cell_type": "code",
      "source": [
        "for image_path in files:                                      # Itera sob os arquivos (caminhos) da vetor \"files\"\n",
        "  img = cv2.imread(image_path)                                # Atribui o arquivo de imagem para \"img\"\n",
        "  img = cv2.resize(img, (64,64))                              # Redimensiona a imagem para 64x64 pixels (H,W)\n",
        "\n",
        "  images.append(img)                                          # Acrescenta \"img\" ao vetor \"images\"\n",
        "\n",
        "  img_name = os.path.basename(os.path.normpath(image_path))   # Atribui o nome do arquivo de imagem da iteração à \"img_name\"\n",
        "\n",
        "  if \"NOK\" in img_name:                                       # Verifica se a string \"NOK\" está contida no nome do arquivo\n",
        "    label = 0                                                 # Caso sim, atritui 0 (NOK) ao rótulo do arquivo de imagem da iteração\n",
        "  else:\n",
        "    label = 1                                                 # Caso contrário, atribui 1 (OK)\n",
        "\n",
        "  labels.append(label)                                        # Acrescenta \"label\" ao vetor \"labels\""
      ],
      "metadata": {
        "id": "RUQXncClvnP7"
      },
      "execution_count": null,
      "outputs": []
    },
    {
      "cell_type": "code",
      "source": [
        "# Visualização das imagens e seus respectivos labels\n",
        "plt.figure(figsize=(10, 10))\n",
        "for i in range(8):\n",
        "    ax = plt.subplot(3, 3, i + 1)\n",
        "    plt.imshow(images[i].astype(\"uint8\"), cmap='viridis')\n",
        "    if labels[i] == 0:\n",
        "      label_name = 'P13NOK'\n",
        "    else:\n",
        "      label_name = 'P13OK'\n",
        "    plt.title(label_name)\n",
        "    plt.axis(\"off\")"
      ],
      "metadata": {
        "id": "0d-RFFXR-5IW"
      },
      "execution_count": null,
      "outputs": []
    },
    {
      "cell_type": "code",
      "source": [
        "X = np.asarray(images)\n",
        "y = np.asarray(labels)\n",
        "\n",
        "print(X.shape, y.shape)"
      ],
      "metadata": {
        "id": "WVTHkozRBn7T",
        "colab": {
          "base_uri": "https://localhost:8080/"
        },
        "outputId": "1da1bc98-fc5e-434c-e31c-c8aa0ffdc4c9"
      },
      "execution_count": null,
      "outputs": [
        {
          "output_type": "stream",
          "name": "stdout",
          "text": [
            "(1238, 64, 64, 3) (1238,)\n"
          ]
        }
      ]
    },
    {
      "cell_type": "markdown",
      "source": [
        "# Normalização dos dados\n",
        "\n",
        "Altera a escala dos pixels de 0 - 255 para 0 - 1"
      ],
      "metadata": {
        "id": "wTHZair7C1Ty"
      }
    },
    {
      "cell_type": "code",
      "source": [
        "from sklearn.preprocessing import MinMaxScaler\n",
        "\n",
        "X_og_shape = X.shape\n",
        "X = X.reshape((-1, X.shape[-1]))\n",
        "\n",
        "print(X.shape, X_og_shape)\n",
        "\n",
        "scaler = MinMaxScaler()\n",
        "X = scaler.fit_transform(X)\n",
        "X = X.reshape(X_og_shape)\n",
        "\n",
        "print(X[100].max(), X[100].min(), X.shape)"
      ],
      "metadata": {
        "id": "ADKUMGMk6Uix"
      },
      "execution_count": null,
      "outputs": []
    },
    {
      "cell_type": "markdown",
      "source": [
        "# Divisão das bases de treinamento e teste"
      ],
      "metadata": {
        "id": "jSLplxskDWGP"
      }
    },
    {
      "cell_type": "code",
      "source": [
        "from sklearn.model_selection import train_test_split\n",
        "X, X_test, y, y_test = train_test_split(X, y, test_size = 0.2, random_state = 1)\n",
        "\n",
        "print(X.shape, X_test.shape, y.shape, y_test.shape)"
      ],
      "metadata": {
        "colab": {
          "base_uri": "https://localhost:8080/"
        },
        "id": "k-5aGdSSgMCL",
        "outputId": "b91ade09-270c-476c-f228-a98dca8a8d58"
      },
      "execution_count": null,
      "outputs": [
        {
          "output_type": "stream",
          "name": "stdout",
          "text": [
            "(990, 64, 64, 3) (248, 64, 64, 3) (990,) (248,)\n"
          ]
        }
      ]
    },
    {
      "cell_type": "markdown",
      "source": [
        "# Camada de Data Augmentation\n",
        "\n",
        "\n",
        "*   RandomFlip()\n",
        "*   RandomRotation()\n",
        "\n"
      ],
      "metadata": {
        "id": "0Bs1CFcWD3mv"
      }
    },
    {
      "cell_type": "code",
      "source": [
        "data_augmentation = tf.keras.Sequential([\n",
        "    tf.keras.layers.RandomFlip('horizontal_and_vertical',\n",
        "                               input_shape=(64,64,3)),\n",
        "    tf.keras.layers.RandomRotation(0.3),\n",
        "])"
      ],
      "metadata": {
        "id": "SxoMlwg0VMa8"
      },
      "execution_count": null,
      "outputs": []
    },
    {
      "cell_type": "code",
      "source": [
        "plt.figure(figsize=(10,10))\n",
        "first_image = images[0]\n",
        "for i in range(9):\n",
        "  ax = plt.subplot(3, 3, i + 1)\n",
        "  augmented_image = data_augmentation(tf.expand_dims(first_image, 0))\n",
        "  plt.imshow(augmented_image[0] / 255)\n",
        "  plt.axis('off')"
      ],
      "metadata": {
        "id": "X9QbiyC1VY_A"
      },
      "execution_count": null,
      "outputs": []
    },
    {
      "cell_type": "markdown",
      "source": [
        "# Arquitetura da CNN\n",
        "\n",
        "\n",
        "\n",
        "*   Input\n",
        "*   Data Augmentation\n",
        "*   Rescaling\n",
        "*   Conv2D\n",
        "*   MaxPool2D\n",
        "*   Conv2D\n",
        "*   MaxPool2D\n",
        "*   Flatten\n",
        "*   Dropout\n",
        "*   BatchNormalization\n",
        "*   Dense\n",
        "*   Dropout\n",
        "*   BatchNormalization\n",
        "*   Dense\n"
      ],
      "metadata": {
        "id": "pT2Ukyd-Efn3"
      }
    },
    {
      "cell_type": "code",
      "source": [
        "model = tf.keras.Sequential([\n",
        "\n",
        "    tf.keras.layers.Input(shape=(64, 64, 3)),\n",
        "    data_augmentation,\n",
        "    tf.keras.layers.Rescaling(1./255),\n",
        "\n",
        "    tf.keras.layers.Conv2D(filters=32, kernel_size=(3,3), activation='relu', input_shape=(64,64,3)),\n",
        "    tf.keras.layers.MaxPool2D(pool_size=(2,2)),\n",
        "\n",
        "    tf.keras.layers.Conv2D(filters=64, kernel_size=(3,3), activation='relu'),\n",
        "    tf.keras.layers.MaxPool2D(pool_size=(2,2)),\n",
        "\n",
        "    tf.keras.layers.Flatten(),\n",
        "\n",
        "    tf.keras.layers.Dropout(0.5),\n",
        "    tf.keras.layers.BatchNormalization(),\n",
        "\n",
        "    tf.keras.layers.Dense(units=577, activation='relu'),\n",
        "    tf.keras.layers.Dropout(0.5),\n",
        "    tf.keras.layers.BatchNormalization(),\n",
        "\n",
        "    tf.keras.layers.Dense(units=1, activation='sigmoid')\n",
        "\n",
        "])"
      ],
      "metadata": {
        "id": "QTI5pZKoWA3u"
      },
      "execution_count": null,
      "outputs": []
    },
    {
      "cell_type": "code",
      "source": [
        "model.summary()"
      ],
      "metadata": {
        "colab": {
          "base_uri": "https://localhost:8080/"
        },
        "id": "AkxmZ0cIX2BZ",
        "outputId": "0b7a8a98-3e81-47df-c4bd-f7726ecd5b24"
      },
      "execution_count": null,
      "outputs": [
        {
          "output_type": "stream",
          "name": "stdout",
          "text": [
            "Model: \"sequential_5\"\n",
            "_________________________________________________________________\n",
            " Layer (type)                Output Shape              Param #   \n",
            "=================================================================\n",
            " sequential_4 (Sequential)   (None, 64, 64, 3)         0         \n",
            "                                                                 \n",
            " rescaling_1 (Rescaling)     (None, 64, 64, 3)         0         \n",
            "                                                                 \n",
            " conv2d_6 (Conv2D)           (None, 62, 62, 32)        896       \n",
            "                                                                 \n",
            " max_pooling2d_6 (MaxPoolin  (None, 31, 31, 32)        0         \n",
            " g2D)                                                            \n",
            "                                                                 \n",
            " conv2d_7 (Conv2D)           (None, 29, 29, 64)        18496     \n",
            "                                                                 \n",
            " max_pooling2d_7 (MaxPoolin  (None, 14, 14, 64)        0         \n",
            " g2D)                                                            \n",
            "                                                                 \n",
            " flatten_3 (Flatten)         (None, 12544)             0         \n",
            "                                                                 \n",
            " dropout_6 (Dropout)         (None, 12544)             0         \n",
            "                                                                 \n",
            " batch_normalization_6 (Bat  (None, 12544)             50176     \n",
            " chNormalization)                                                \n",
            "                                                                 \n",
            " dense_6 (Dense)             (None, 577)               7238465   \n",
            "                                                                 \n",
            " dropout_7 (Dropout)         (None, 577)               0         \n",
            "                                                                 \n",
            " batch_normalization_7 (Bat  (None, 577)               2308      \n",
            " chNormalization)                                                \n",
            "                                                                 \n",
            " dense_7 (Dense)             (None, 1)                 578       \n",
            "                                                                 \n",
            "=================================================================\n",
            "Total params: 7310919 (27.89 MB)\n",
            "Trainable params: 7284677 (27.79 MB)\n",
            "Non-trainable params: 26242 (102.51 KB)\n",
            "_________________________________________________________________\n"
          ]
        }
      ]
    },
    {
      "cell_type": "code",
      "source": [
        "tf.keras.utils.plot_model(model, show_shapes=True)"
      ],
      "metadata": {
        "id": "sbfCpFgRYAoJ"
      },
      "execution_count": null,
      "outputs": []
    },
    {
      "cell_type": "code",
      "source": [
        "model.compile(\n",
        "    optimizer=tf.keras.optimizers.Adam(learning_rate=0.00001),\n",
        "    loss=tf.keras.losses.BinaryCrossentropy(),\n",
        "    metrics=['accuracy']\n",
        ")"
      ],
      "metadata": {
        "id": "0cVWUQk6YnDN"
      },
      "execution_count": null,
      "outputs": []
    },
    {
      "cell_type": "markdown",
      "source": [
        "# Treinamento com validação cruzada k-fold\n"
      ],
      "metadata": {
        "id": "Uz4V3nH2Gbi2"
      }
    },
    {
      "cell_type": "code",
      "source": [
        "# Validação cruzada\n",
        "num_folds = 5\n",
        "kfold = KFold(n_splits=num_folds, shuffle=True)\n",
        "\n",
        "for fold, (train_index, val_index) in enumerate(kfold.split(X, y)):\n",
        "  print(f\"Fold {fold + 1}/{num_folds}\")\n",
        "\n",
        "  X_train, X_val = X[train_index], X[val_index]\n",
        "  y_train, y_val = y[train_index], y[val_index]\n",
        "\n",
        "  model.fit(X_train, y_train, epochs=10, batch_size=8, validation_data=(X_val, y_val))\n",
        "\n",
        "  # Avalie o modelo no conjunto de validação\n",
        "  results = model.evaluate(X_val, y_val)\n",
        "  print(f\"Fold {fold + 1} - Loss: {results[0]}, Accuracy: {results[1]}\")"
      ],
      "metadata": {
        "id": "Dx7qplbMFjVe"
      },
      "execution_count": null,
      "outputs": []
    },
    {
      "cell_type": "markdown",
      "source": [
        "# Teste do modelo utilizando o dataset de teste"
      ],
      "metadata": {
        "id": "G_W9E-zpGjdL"
      }
    },
    {
      "cell_type": "code",
      "source": [
        "predictions = model.predict(X_test)\n",
        "predictions = (predictions > 0.5)\n",
        "# FALSE - NOK\n",
        "# TRUE - OK\n",
        "print(predictions)"
      ],
      "metadata": {
        "id": "1qv7M9IWdV1X"
      },
      "execution_count": null,
      "outputs": []
    },
    {
      "cell_type": "markdown",
      "source": [
        "# Performance do modelo no dataset de teste (100%)"
      ],
      "metadata": {
        "id": "QpOPPTQyGqTc"
      }
    },
    {
      "cell_type": "code",
      "source": [
        "from sklearn.metrics import accuracy_score, confusion_matrix\n",
        "acc_score = accuracy_score(y_test, predictions)\n",
        "print(acc_score)\n",
        "cm = confusion_matrix(y_test, predictions)\n",
        "sns.heatmap(cm, annot=True)"
      ],
      "metadata": {
        "colab": {
          "base_uri": "https://localhost:8080/",
          "height": 470
        },
        "id": "ZGBjYfSMmEQ3",
        "outputId": "2aa6b51a-694b-4f48-ec2c-5779bc272773"
      },
      "execution_count": null,
      "outputs": [
        {
          "output_type": "stream",
          "name": "stdout",
          "text": [
            "1.0\n"
          ]
        },
        {
          "output_type": "execute_result",
          "data": {
            "text/plain": [
              "<Axes: >"
            ]
          },
          "metadata": {},
          "execution_count": 82
        },
        {
          "output_type": "display_data",
          "data": {
            "text/plain": [
              "<Figure size 640x480 with 2 Axes>"
            ],
            "image/png": "[encoded data removed]"
          },
          "metadata": {}
        }
      ]
    },
    {
      "cell_type": "markdown",
      "source": [
        "# Teste do modelo utilizando o dataset de amostras novas.\n",
        "\n",
        "*   As novas amostras foram coletadas com um padrão de qualidade de captura menor, visando testar a capacidade do modelo de generalizar para novas imagens.\n",
        "*   O processo de preparação do dataset de novas amostras foi idêntido ao dataset original.\n",
        "\n",
        "\n",
        "\n",
        "\n"
      ],
      "metadata": {
        "id": "0QXapyeOAbqB"
      }
    },
    {
      "cell_type": "code",
      "source": [
        "test_dir = '/content/test_batch'\n",
        "test_images = []\n",
        "test_labels = []"
      ],
      "metadata": {
        "id": "2Z5AuDyRAuea"
      },
      "execution_count": null,
      "outputs": []
    },
    {
      "cell_type": "code",
      "source": [
        "test_files = [os.path.join(test_dir, f) for f in sorted(os.listdir(test_dir))]"
      ],
      "metadata": {
        "id": "sDkqz_AwBBZ4"
      },
      "execution_count": null,
      "outputs": []
    },
    {
      "cell_type": "code",
      "source": [
        "for image_path in test_files:\n",
        "  img = cv2.imread(image_path)\n",
        "  img = cv2.resize(img, (64,64))\n",
        "\n",
        "  test_images.append(img)\n",
        "\n",
        "  img_name = os.path.basename(os.path.normpath(image_path))\n",
        "\n",
        "  if \"NOK\" in img_name:\n",
        "    label = 0\n",
        "  else:\n",
        "    label = 1\n",
        "\n",
        "  test_labels.append(label)"
      ],
      "metadata": {
        "id": "oK9kOMpvAjaV"
      },
      "execution_count": null,
      "outputs": []
    },
    {
      "cell_type": "code",
      "source": [
        "test_X = np.asarray(test_images)\n",
        "test_y = np.asarray(test_labels)\n",
        "\n",
        "print(test_X.shape, test_y.shape)"
      ],
      "metadata": {
        "colab": {
          "base_uri": "https://localhost:8080/"
        },
        "id": "5e5TADPSB2h3",
        "outputId": "811fca1f-997d-487d-ddaa-b2044d597bb3"
      },
      "execution_count": null,
      "outputs": [
        {
          "output_type": "stream",
          "name": "stdout",
          "text": [
            "(49, 64, 64, 3) (49,)\n"
          ]
        }
      ]
    },
    {
      "cell_type": "code",
      "source": [
        "test_predictions = model.predict(test_X)\n",
        "test_predictions = (test_predictions > 0.5)\n",
        "# FALSE - NOK\n",
        "# TRUE - OK\n",
        "print(test_predictions)"
      ],
      "metadata": {
        "id": "wtTqphblCIXq"
      },
      "execution_count": null,
      "outputs": []
    },
    {
      "cell_type": "markdown",
      "source": [
        "# Performance do modelo no dataset de amostras novas (75%)"
      ],
      "metadata": {
        "id": "08xOvSBKHuHR"
      }
    },
    {
      "cell_type": "code",
      "source": [
        "from sklearn.metrics import accuracy_score, confusion_matrix\n",
        "test_acc_score = accuracy_score(test_y, test_predictions)\n",
        "print(test_acc_score)\n",
        "test_cm = confusion_matrix(test_y, test_predictions)\n",
        "sns.heatmap(test_cm, annot=True)"
      ],
      "metadata": {
        "colab": {
          "base_uri": "https://localhost:8080/",
          "height": 465
        },
        "id": "y4MCLvdaDWNS",
        "outputId": "f9507c7d-49e1-47fb-c156-0a51257007b4"
      },
      "execution_count": null,
      "outputs": [
        {
          "output_type": "stream",
          "name": "stdout",
          "text": [
            "0.7346938775510204\n"
          ]
        },
        {
          "output_type": "execute_result",
          "data": {
            "text/plain": [
              "<Axes: >"
            ]
          },
          "metadata": {},
          "execution_count": 102
        },
        {
          "output_type": "display_data",
          "data": {
            "text/plain": [
              "<Figure size 640x480 with 2 Axes>"
            ],
            "image/png": "[encoded data removed]"
          },
          "metadata": {}
        }
      ]
    },
    {
      "cell_type": "markdown",
      "source": [
        "# Salvar os arquivos do modelo\n",
        "\n",
        "Os arquivos são: o arquivo json que descreve a arquitetura e o arquivo hdf5 que contém os valores dos pesos treinados."
      ],
      "metadata": {
        "id": "ufJnD6fsH5Iz"
      }
    },
    {
      "cell_type": "code",
      "source": [
        "model_json = model.to_json()\n",
        "with open('model.json', 'w') as json_file:\n",
        "  json_file.write(model_json)"
      ],
      "metadata": {
        "id": "zN9AkJ36fseZ"
      },
      "execution_count": null,
      "outputs": []
    },
    {
      "cell_type": "code",
      "source": [
        "from keras.models import save_model\n",
        "model_saved = save_model(model, '/content/weights.hdf5')"
      ],
      "metadata": {
        "colab": {
          "base_uri": "https://localhost:8080/"
        },
        "id": "PiVXTd4mg8RW",
        "outputId": "65c2de11-db5d-42f2-87ac-fa5ac1cfa8d9"
      },
      "execution_count": null,
      "outputs": [
        {
          "output_type": "stream",
          "name": "stderr",
          "text": [
            "<ipython-input-49-c5122d7aeb50>:2: UserWarning: You are saving your model as an HDF5 file via `model.save()`. This file format is considered legacy. We recommend using instead the native Keras format, e.g. `model.save('my_model.keras')`.\n",
            "  model_saved = save_model(model, '/content/weights.hdf5')\n"
          ]
        }
      ]
    }
  ]
}